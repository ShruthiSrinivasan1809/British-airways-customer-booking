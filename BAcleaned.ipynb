{
 "cells": [
  {
   "cell_type": "code",
   "execution_count": 1,
   "id": "28d1fc67",
   "metadata": {},
   "outputs": [
    {
     "name": "stderr",
     "output_type": "stream",
     "text": [
      "[nltk_data] Downloading package stopwords to\n",
      "[nltk_data]     C:\\Users\\1809s\\AppData\\Roaming\\nltk_data...\n",
      "[nltk_data]   Package stopwords is already up-to-date!\n"
     ]
    }
   ],
   "source": [
    "import os\n",
    "import numpy\n",
    "import pandas as pd\n",
    "import string\n",
    "import re\n",
    "import emoji\n",
    "import nltk\n",
    "nltk.download(\"stopwords\")\n",
    "os.chdir(\"C:\\\\Users\\\\1809s\\\\OneDrive\\\\Desktop\\\\British Airways\")"
   ]
  },
  {
   "cell_type": "code",
   "execution_count": 2,
   "id": "c2ce6761",
   "metadata": {},
   "outputs": [],
   "source": [
    "df=pd.read_csv(\"British AirwaysDataCollection.csv\")"
   ]
  },
  {
   "cell_type": "code",
   "execution_count": 3,
   "id": "887b89a7",
   "metadata": {},
   "outputs": [
    {
     "data": {
      "text/html": [
       "<div>\n",
       "<style scoped>\n",
       "    .dataframe tbody tr th:only-of-type {\n",
       "        vertical-align: middle;\n",
       "    }\n",
       "\n",
       "    .dataframe tbody tr th {\n",
       "        vertical-align: top;\n",
       "    }\n",
       "\n",
       "    .dataframe thead th {\n",
       "        text-align: right;\n",
       "    }\n",
       "</style>\n",
       "<table border=\"1\" class=\"dataframe\">\n",
       "  <thead>\n",
       "    <tr style=\"text-align: right;\">\n",
       "      <th></th>\n",
       "      <th>Unnamed: 0</th>\n",
       "      <th>reviews</th>\n",
       "      <th>reviewer_country</th>\n",
       "      <th>review_date</th>\n",
       "      <th>review_rating</th>\n",
       "    </tr>\n",
       "  </thead>\n",
       "  <tbody>\n",
       "    <tr>\n",
       "      <th>0</th>\n",
       "      <td>0</td>\n",
       "      <td>✅ Trip Verified |  I fly British Airways weekl...</td>\n",
       "      <td>United Kingdom</td>\n",
       "      <td>22nd September 2023</td>\n",
       "      <td>1.0</td>\n",
       "    </tr>\n",
       "    <tr>\n",
       "      <th>1</th>\n",
       "      <td>1</td>\n",
       "      <td>Not Verified |  Everything was ok until our co...</td>\n",
       "      <td>France</td>\n",
       "      <td>20th September 2023</td>\n",
       "      <td>1.0</td>\n",
       "    </tr>\n",
       "    <tr>\n",
       "      <th>2</th>\n",
       "      <td>2</td>\n",
       "      <td>Not Verified |  My initial flight was cancelle...</td>\n",
       "      <td>Germany</td>\n",
       "      <td>20th September 2023</td>\n",
       "      <td>1.0</td>\n",
       "    </tr>\n",
       "    <tr>\n",
       "      <th>3</th>\n",
       "      <td>3</td>\n",
       "      <td>Not Verified |  We will never fly British Airw...</td>\n",
       "      <td>Switzerland</td>\n",
       "      <td>19th September 2023</td>\n",
       "      <td>1.0</td>\n",
       "    </tr>\n",
       "    <tr>\n",
       "      <th>4</th>\n",
       "      <td>4</td>\n",
       "      <td>✅ Trip Verified | Check in and security cleara...</td>\n",
       "      <td>United Kingdom</td>\n",
       "      <td>18th September 2023</td>\n",
       "      <td>6.0</td>\n",
       "    </tr>\n",
       "    <tr>\n",
       "      <th>...</th>\n",
       "      <td>...</td>\n",
       "      <td>...</td>\n",
       "      <td>...</td>\n",
       "      <td>...</td>\n",
       "      <td>...</td>\n",
       "    </tr>\n",
       "    <tr>\n",
       "      <th>3650</th>\n",
       "      <td>3650</td>\n",
       "      <td>LHR-JFK-LAX-LHR. Check in was ok apart from be...</td>\n",
       "      <td>United Kingdom</td>\n",
       "      <td>29th August 2012</td>\n",
       "      <td>4.0</td>\n",
       "    </tr>\n",
       "    <tr>\n",
       "      <th>3651</th>\n",
       "      <td>3651</td>\n",
       "      <td>LHR to HAM. Purser addresses all club passenge...</td>\n",
       "      <td>United Kingdom</td>\n",
       "      <td>28th August 2012</td>\n",
       "      <td>9.0</td>\n",
       "    </tr>\n",
       "    <tr>\n",
       "      <th>3652</th>\n",
       "      <td>3652</td>\n",
       "      <td>My son who had worked for British Airways urge...</td>\n",
       "      <td>United Kingdom</td>\n",
       "      <td>12th October 2011</td>\n",
       "      <td>5.0</td>\n",
       "    </tr>\n",
       "    <tr>\n",
       "      <th>3653</th>\n",
       "      <td>3653</td>\n",
       "      <td>London City-New York JFK via Shannon on A318 b...</td>\n",
       "      <td>United States</td>\n",
       "      <td>11th October 2011</td>\n",
       "      <td>4.0</td>\n",
       "    </tr>\n",
       "    <tr>\n",
       "      <th>3654</th>\n",
       "      <td>3654</td>\n",
       "      <td>SIN-LHR BA12 B747-436 First Class. Old aircraf...</td>\n",
       "      <td>United Kingdom</td>\n",
       "      <td>9th October 2011</td>\n",
       "      <td>4.0</td>\n",
       "    </tr>\n",
       "  </tbody>\n",
       "</table>\n",
       "<p>3655 rows × 5 columns</p>\n",
       "</div>"
      ],
      "text/plain": [
       "      Unnamed: 0                                            reviews  \\\n",
       "0              0  ✅ Trip Verified |  I fly British Airways weekl...   \n",
       "1              1  Not Verified |  Everything was ok until our co...   \n",
       "2              2  Not Verified |  My initial flight was cancelle...   \n",
       "3              3  Not Verified |  We will never fly British Airw...   \n",
       "4              4  ✅ Trip Verified | Check in and security cleara...   \n",
       "...          ...                                                ...   \n",
       "3650        3650  LHR-JFK-LAX-LHR. Check in was ok apart from be...   \n",
       "3651        3651  LHR to HAM. Purser addresses all club passenge...   \n",
       "3652        3652  My son who had worked for British Airways urge...   \n",
       "3653        3653  London City-New York JFK via Shannon on A318 b...   \n",
       "3654        3654  SIN-LHR BA12 B747-436 First Class. Old aircraf...   \n",
       "\n",
       "     reviewer_country          review_date  review_rating  \n",
       "0      United Kingdom  22nd September 2023            1.0  \n",
       "1              France  20th September 2023            1.0  \n",
       "2             Germany  20th September 2023            1.0  \n",
       "3         Switzerland  19th September 2023            1.0  \n",
       "4      United Kingdom  18th September 2023            6.0  \n",
       "...               ...                  ...            ...  \n",
       "3650   United Kingdom     29th August 2012            4.0  \n",
       "3651   United Kingdom     28th August 2012            9.0  \n",
       "3652   United Kingdom    12th October 2011            5.0  \n",
       "3653    United States    11th October 2011            4.0  \n",
       "3654   United Kingdom     9th October 2011            4.0  \n",
       "\n",
       "[3655 rows x 5 columns]"
      ]
     },
     "execution_count": 3,
     "metadata": {},
     "output_type": "execute_result"
    }
   ],
   "source": [
    "df"
   ]
  },
  {
   "cell_type": "code",
   "execution_count": 4,
   "id": "829a035a",
   "metadata": {},
   "outputs": [],
   "source": [
    "df[\"verified\"]=df.reviews.str.contains(\"Trip Verified\")"
   ]
  },
  {
   "cell_type": "code",
   "execution_count": 5,
   "id": "33832fb1",
   "metadata": {},
   "outputs": [],
   "source": [
    "df['review_date'] = df['review_date'].astype('datetime64[ns]')\n"
   ]
  },
  {
   "cell_type": "code",
   "execution_count": 6,
   "id": "c939541b",
   "metadata": {},
   "outputs": [
    {
     "data": {
      "text/html": [
       "<div>\n",
       "<style scoped>\n",
       "    .dataframe tbody tr th:only-of-type {\n",
       "        vertical-align: middle;\n",
       "    }\n",
       "\n",
       "    .dataframe tbody tr th {\n",
       "        vertical-align: top;\n",
       "    }\n",
       "\n",
       "    .dataframe thead th {\n",
       "        text-align: right;\n",
       "    }\n",
       "</style>\n",
       "<table border=\"1\" class=\"dataframe\">\n",
       "  <thead>\n",
       "    <tr style=\"text-align: right;\">\n",
       "      <th></th>\n",
       "      <th>Unnamed: 0</th>\n",
       "      <th>reviews</th>\n",
       "      <th>reviewer_country</th>\n",
       "      <th>review_date</th>\n",
       "      <th>review_rating</th>\n",
       "      <th>verified</th>\n",
       "    </tr>\n",
       "  </thead>\n",
       "  <tbody>\n",
       "    <tr>\n",
       "      <th>0</th>\n",
       "      <td>0</td>\n",
       "      <td>✅ Trip Verified |  I fly British Airways weekl...</td>\n",
       "      <td>United Kingdom</td>\n",
       "      <td>2023-09-22</td>\n",
       "      <td>1.0</td>\n",
       "      <td>True</td>\n",
       "    </tr>\n",
       "    <tr>\n",
       "      <th>1</th>\n",
       "      <td>1</td>\n",
       "      <td>Not Verified |  Everything was ok until our co...</td>\n",
       "      <td>France</td>\n",
       "      <td>2023-09-20</td>\n",
       "      <td>1.0</td>\n",
       "      <td>False</td>\n",
       "    </tr>\n",
       "    <tr>\n",
       "      <th>2</th>\n",
       "      <td>2</td>\n",
       "      <td>Not Verified |  My initial flight was cancelle...</td>\n",
       "      <td>Germany</td>\n",
       "      <td>2023-09-20</td>\n",
       "      <td>1.0</td>\n",
       "      <td>False</td>\n",
       "    </tr>\n",
       "    <tr>\n",
       "      <th>3</th>\n",
       "      <td>3</td>\n",
       "      <td>Not Verified |  We will never fly British Airw...</td>\n",
       "      <td>Switzerland</td>\n",
       "      <td>2023-09-19</td>\n",
       "      <td>1.0</td>\n",
       "      <td>False</td>\n",
       "    </tr>\n",
       "    <tr>\n",
       "      <th>4</th>\n",
       "      <td>4</td>\n",
       "      <td>✅ Trip Verified | Check in and security cleara...</td>\n",
       "      <td>United Kingdom</td>\n",
       "      <td>2023-09-18</td>\n",
       "      <td>6.0</td>\n",
       "      <td>True</td>\n",
       "    </tr>\n",
       "  </tbody>\n",
       "</table>\n",
       "</div>"
      ],
      "text/plain": [
       "   Unnamed: 0                                            reviews  \\\n",
       "0           0  ✅ Trip Verified |  I fly British Airways weekl...   \n",
       "1           1  Not Verified |  Everything was ok until our co...   \n",
       "2           2  Not Verified |  My initial flight was cancelle...   \n",
       "3           3  Not Verified |  We will never fly British Airw...   \n",
       "4           4  ✅ Trip Verified | Check in and security cleara...   \n",
       "\n",
       "  reviewer_country review_date  review_rating  verified  \n",
       "0   United Kingdom  2023-09-22            1.0      True  \n",
       "1           France  2023-09-20            1.0     False  \n",
       "2          Germany  2023-09-20            1.0     False  \n",
       "3      Switzerland  2023-09-19            1.0     False  \n",
       "4   United Kingdom  2023-09-18            6.0      True  "
      ]
     },
     "execution_count": 6,
     "metadata": {},
     "output_type": "execute_result"
    }
   ],
   "source": [
    "df.head()"
   ]
  },
  {
   "cell_type": "markdown",
   "id": "54bc078d",
   "metadata": {},
   "source": [
    "# Cleaning out the reviews column"
   ]
  },
  {
   "cell_type": "code",
   "execution_count": 7,
   "id": "5e3b6b87",
   "metadata": {},
   "outputs": [
    {
     "data": {
      "text/plain": [
       "0        Trip Verified |  I fly British Airways weekly...\n",
       "1       Not Verified |  Everything was ok until our co...\n",
       "2       Not Verified |  My initial flight was cancelle...\n",
       "3       Not Verified |  We will never fly British Airw...\n",
       "4        Trip Verified | Check in and security clearan...\n",
       "                              ...                        \n",
       "3650    LHR-JFK-LAX-LHR. Check in was ok apart from be...\n",
       "3651    LHR to HAM. Purser addresses all club passenge...\n",
       "3652    My son who had worked for British Airways urge...\n",
       "3653    London City-New York JFK via Shannon on A318 b...\n",
       "3654    SIN-LHR BA12 B747-436 First Class. Old aircraf...\n",
       "Name: reviews, Length: 3655, dtype: object"
      ]
     },
     "execution_count": 7,
     "metadata": {},
     "output_type": "execute_result"
    }
   ],
   "source": [
    "cleaned_reviews= df[\"reviews\"].str.replace(\"✅\",\"\")\n",
    "cleaned_reviews"
   ]
  },
  {
   "cell_type": "code",
   "execution_count": 8,
   "id": "32b7249b",
   "metadata": {},
   "outputs": [
    {
     "name": "stderr",
     "output_type": "stream",
     "text": [
      "C:\\Users\\1809s\\AppData\\Local\\Temp\\ipykernel_12968\\591446526.py:1: FutureWarning: The default value of regex will change from True to False in a future version.\n",
      "  cleaned_reviews=cleaned_reviews.str.replace(\"Not Verified |\",\"\")\n"
     ]
    },
    {
     "data": {
      "text/plain": [
       "0        Trip Verified |  I fly British Airways weekly...\n",
       "1       |  Everything was ok until our connecting flig...\n",
       "2       |  My initial flight was cancelled 8 hours pri...\n",
       "3       |  We will never fly British Airways again. Ou...\n",
       "4        Trip Verified | Check in and security clearan...\n",
       "                              ...                        \n",
       "3650    LHR-JFK-LAX-LHR. Check in was ok apart from be...\n",
       "3651    LHR to HAM. Purser addresses all club passenge...\n",
       "3652    My son who had worked for British Airways urge...\n",
       "3653    London City-New York JFK via Shannon on A318 b...\n",
       "3654    SIN-LHR BA12 B747-436 First Class. Old aircraf...\n",
       "Name: reviews, Length: 3655, dtype: object"
      ]
     },
     "execution_count": 8,
     "metadata": {},
     "output_type": "execute_result"
    }
   ],
   "source": [
    "cleaned_reviews=cleaned_reviews.str.replace(\"Not Verified |\",\"\")\n",
    "cleaned_reviews"
   ]
  },
  {
   "cell_type": "code",
   "execution_count": 9,
   "id": "de15817c",
   "metadata": {},
   "outputs": [
    {
     "name": "stderr",
     "output_type": "stream",
     "text": [
      "C:\\Users\\1809s\\AppData\\Local\\Temp\\ipykernel_12968\\1401212806.py:1: FutureWarning: The default value of regex will change from True to False in a future version.\n",
      "  cleaned_reviews=cleaned_reviews.str.replace(\"Trip Verified |\",\"\")\n"
     ]
    },
    {
     "data": {
      "text/plain": [
       "0        |  I fly British Airways weekly not because I...\n",
       "1       |  Everything was ok until our connecting flig...\n",
       "2       |  My initial flight was cancelled 8 hours pri...\n",
       "3       |  We will never fly British Airways again. Ou...\n",
       "4        | Check in and security clearance very quick ...\n",
       "                              ...                        \n",
       "3650    LHR-JFK-LAX-LHR. Check in was ok apart from be...\n",
       "3651    LHR to HAM. Purser addresses all club passenge...\n",
       "3652    My son who had worked for British Airways urge...\n",
       "3653    London City-New York JFK via Shannon on A318 b...\n",
       "3654    SIN-LHR BA12 B747-436 First Class. Old aircraf...\n",
       "Name: reviews, Length: 3655, dtype: object"
      ]
     },
     "execution_count": 9,
     "metadata": {},
     "output_type": "execute_result"
    }
   ],
   "source": [
    "cleaned_reviews=cleaned_reviews.str.replace(\"Trip Verified |\",\"\")\n",
    "cleaned_reviews"
   ]
  },
  {
   "cell_type": "code",
   "execution_count": 10,
   "id": "ab89645d",
   "metadata": {},
   "outputs": [
    {
     "data": {
      "text/plain": [
       "0     |  I fly British Airways weekly not because I...\n",
       "1    |  Everything was ok until our connecting flig...\n",
       "2    |  My initial flight was cancelled 8 hours pri...\n",
       "3    |  We will never fly British Airways again. Ou...\n",
       "4     | Check in and security clearance very quick ...\n",
       "Name: reviews, dtype: object"
      ]
     },
     "execution_count": 10,
     "metadata": {},
     "output_type": "execute_result"
    }
   ],
   "source": [
    "df[\"reviews\"]=cleaned_reviews\n",
    "df[\"reviews\"].head()\n"
   ]
  },
  {
   "cell_type": "code",
   "execution_count": 13,
   "id": "c226f74d",
   "metadata": {},
   "outputs": [
    {
     "name": "stderr",
     "output_type": "stream",
     "text": [
      "[nltk_data] Downloading package punkt to\n",
      "[nltk_data]     C:\\Users\\1809s\\AppData\\Roaming\\nltk_data...\n",
      "[nltk_data]   Package punkt is already up-to-date!\n"
     ]
    }
   ],
   "source": [
    "from nltk.tokenize import word_tokenize\n",
    "nltk.download('punkt')\n",
    "from nltk.corpus import stopwords\n",
    "from nltk.stem import WordNetLemmatizer\n",
    "stop_words = set(stopwords.words('english'))\n",
    "lemmatizer = WordNetLemmatizer()\n",
    "\n",
    "def cleaning(text):\n",
    "    text = text.lower()  # Converting to lower case\n",
    "    text = re.sub(r\"https?://\\S+|www\\.\\S+\", \"\", text)  # Remove URLs from the text\n",
    "    translation = str.maketrans(\"\", \"\", string.punctuation)  # Removed punctuations\n",
    "    text = text.translate(translation)\n",
    "    text = emoji.demojize(text)  # Removes any emojis present in text to text format\n",
    "    words = word_tokenize(text)  # Tokenization\n",
    "    words = [word for word in words if word not in stop_words]  # Stop words removal\n",
    "    lemmatized_text = ' '.join([lemmatizer.lemmatize(word) for word in words])  # Lemmatization after tokenization\n",
    "    return lemmatized_text\n",
    "    "
   ]
  },
  {
   "cell_type": "code",
   "execution_count": 14,
   "id": "0d6fb9e7",
   "metadata": {},
   "outputs": [],
   "source": [
    "df[\"reviews\"]=df[\"reviews\"].apply(cleaning)"
   ]
  },
  {
   "cell_type": "code",
   "execution_count": 15,
   "id": "582d7b22",
   "metadata": {},
   "outputs": [
    {
     "data": {
      "text/plain": [
       "0       fly british airway weekly want route ’ option ...\n",
       "1       everything ok connecting flight london take ru...\n",
       "2       initial flight cancelled 8 hour prior flight a...\n",
       "3       never fly british airway flight july 15 2023 l...\n",
       "4       check security clearance quick lhr t5 wife use...\n",
       "                              ...                        \n",
       "3650    lhrjfklaxlhr check ok apart snapped early chec...\n",
       "3651    lhr ham purser address club passenger name boa...\n",
       "3652    son worked british airway urged fly british ai...\n",
       "3653    london citynew york jfk via shannon a318 reall...\n",
       "3654    sinlhr ba12 b747436 first class old aircraft 1...\n",
       "Name: reviews, Length: 3655, dtype: object"
      ]
     },
     "execution_count": 15,
     "metadata": {},
     "output_type": "execute_result"
    }
   ],
   "source": [
    "df[\"reviews\"]"
   ]
  },
  {
   "cell_type": "code",
   "execution_count": 16,
   "id": "aa80db85",
   "metadata": {},
   "outputs": [
    {
     "data": {
      "text/html": [
       "<div>\n",
       "<style scoped>\n",
       "    .dataframe tbody tr th:only-of-type {\n",
       "        vertical-align: middle;\n",
       "    }\n",
       "\n",
       "    .dataframe tbody tr th {\n",
       "        vertical-align: top;\n",
       "    }\n",
       "\n",
       "    .dataframe thead th {\n",
       "        text-align: right;\n",
       "    }\n",
       "</style>\n",
       "<table border=\"1\" class=\"dataframe\">\n",
       "  <thead>\n",
       "    <tr style=\"text-align: right;\">\n",
       "      <th></th>\n",
       "      <th>Unnamed: 0</th>\n",
       "      <th>reviews</th>\n",
       "      <th>reviewer_country</th>\n",
       "      <th>review_date</th>\n",
       "      <th>review_rating</th>\n",
       "      <th>verified</th>\n",
       "    </tr>\n",
       "  </thead>\n",
       "  <tbody>\n",
       "    <tr>\n",
       "      <th>0</th>\n",
       "      <td>0</td>\n",
       "      <td>fly british airway weekly want route ’ option ...</td>\n",
       "      <td>United Kingdom</td>\n",
       "      <td>2023-09-22</td>\n",
       "      <td>1.0</td>\n",
       "      <td>True</td>\n",
       "    </tr>\n",
       "    <tr>\n",
       "      <th>1</th>\n",
       "      <td>1</td>\n",
       "      <td>everything ok connecting flight london take ru...</td>\n",
       "      <td>France</td>\n",
       "      <td>2023-09-20</td>\n",
       "      <td>1.0</td>\n",
       "      <td>False</td>\n",
       "    </tr>\n",
       "    <tr>\n",
       "      <th>2</th>\n",
       "      <td>2</td>\n",
       "      <td>initial flight cancelled 8 hour prior flight a...</td>\n",
       "      <td>Germany</td>\n",
       "      <td>2023-09-20</td>\n",
       "      <td>1.0</td>\n",
       "      <td>False</td>\n",
       "    </tr>\n",
       "    <tr>\n",
       "      <th>3</th>\n",
       "      <td>3</td>\n",
       "      <td>never fly british airway flight july 15 2023 l...</td>\n",
       "      <td>Switzerland</td>\n",
       "      <td>2023-09-19</td>\n",
       "      <td>1.0</td>\n",
       "      <td>False</td>\n",
       "    </tr>\n",
       "    <tr>\n",
       "      <th>4</th>\n",
       "      <td>4</td>\n",
       "      <td>check security clearance quick lhr t5 wife use...</td>\n",
       "      <td>United Kingdom</td>\n",
       "      <td>2023-09-18</td>\n",
       "      <td>6.0</td>\n",
       "      <td>True</td>\n",
       "    </tr>\n",
       "  </tbody>\n",
       "</table>\n",
       "</div>"
      ],
      "text/plain": [
       "   Unnamed: 0                                            reviews  \\\n",
       "0           0  fly british airway weekly want route ’ option ...   \n",
       "1           1  everything ok connecting flight london take ru...   \n",
       "2           2  initial flight cancelled 8 hour prior flight a...   \n",
       "3           3  never fly british airway flight july 15 2023 l...   \n",
       "4           4  check security clearance quick lhr t5 wife use...   \n",
       "\n",
       "  reviewer_country review_date  review_rating  verified  \n",
       "0   United Kingdom  2023-09-22            1.0      True  \n",
       "1           France  2023-09-20            1.0     False  \n",
       "2          Germany  2023-09-20            1.0     False  \n",
       "3      Switzerland  2023-09-19            1.0     False  \n",
       "4   United Kingdom  2023-09-18            6.0      True  "
      ]
     },
     "execution_count": 16,
     "metadata": {},
     "output_type": "execute_result"
    }
   ],
   "source": [
    "df.head()"
   ]
  },
  {
   "cell_type": "code",
   "execution_count": 17,
   "id": "2293e2bc",
   "metadata": {},
   "outputs": [
    {
     "data": {
      "text/plain": [
       "Unnamed: 0  reviews  reviewer_country  review_date  review_rating  verified\n",
       "False       False    False             False        False          False       3648\n",
       "                                                    True           False          5\n",
       "                     True              False        False          False          2\n",
       "dtype: int64"
      ]
     },
     "execution_count": 17,
     "metadata": {},
     "output_type": "execute_result"
    }
   ],
   "source": [
    "df.isnull().value_counts()"
   ]
  },
  {
   "cell_type": "code",
   "execution_count": 18,
   "id": "52b02e1f",
   "metadata": {},
   "outputs": [
    {
     "data": {
      "text/html": [
       "<div>\n",
       "<style scoped>\n",
       "    .dataframe tbody tr th:only-of-type {\n",
       "        vertical-align: middle;\n",
       "    }\n",
       "\n",
       "    .dataframe tbody tr th {\n",
       "        vertical-align: top;\n",
       "    }\n",
       "\n",
       "    .dataframe thead th {\n",
       "        text-align: right;\n",
       "    }\n",
       "</style>\n",
       "<table border=\"1\" class=\"dataframe\">\n",
       "  <thead>\n",
       "    <tr style=\"text-align: right;\">\n",
       "      <th></th>\n",
       "      <th>Unnamed: 0</th>\n",
       "      <th>reviews</th>\n",
       "      <th>reviewer_country</th>\n",
       "      <th>review_date</th>\n",
       "      <th>review_rating</th>\n",
       "      <th>verified</th>\n",
       "    </tr>\n",
       "  </thead>\n",
       "  <tbody>\n",
       "    <tr>\n",
       "      <th>0</th>\n",
       "      <td>0</td>\n",
       "      <td>fly british airway weekly want route ’ option ...</td>\n",
       "      <td>United Kingdom</td>\n",
       "      <td>2023-09-22</td>\n",
       "      <td>1.0</td>\n",
       "      <td>True</td>\n",
       "    </tr>\n",
       "    <tr>\n",
       "      <th>1</th>\n",
       "      <td>1</td>\n",
       "      <td>everything ok connecting flight london take ru...</td>\n",
       "      <td>France</td>\n",
       "      <td>2023-09-20</td>\n",
       "      <td>1.0</td>\n",
       "      <td>False</td>\n",
       "    </tr>\n",
       "    <tr>\n",
       "      <th>2</th>\n",
       "      <td>2</td>\n",
       "      <td>initial flight cancelled 8 hour prior flight a...</td>\n",
       "      <td>Germany</td>\n",
       "      <td>2023-09-20</td>\n",
       "      <td>1.0</td>\n",
       "      <td>False</td>\n",
       "    </tr>\n",
       "    <tr>\n",
       "      <th>3</th>\n",
       "      <td>3</td>\n",
       "      <td>never fly british airway flight july 15 2023 l...</td>\n",
       "      <td>Switzerland</td>\n",
       "      <td>2023-09-19</td>\n",
       "      <td>1.0</td>\n",
       "      <td>False</td>\n",
       "    </tr>\n",
       "    <tr>\n",
       "      <th>4</th>\n",
       "      <td>4</td>\n",
       "      <td>check security clearance quick lhr t5 wife use...</td>\n",
       "      <td>United Kingdom</td>\n",
       "      <td>2023-09-18</td>\n",
       "      <td>6.0</td>\n",
       "      <td>True</td>\n",
       "    </tr>\n",
       "    <tr>\n",
       "      <th>...</th>\n",
       "      <td>...</td>\n",
       "      <td>...</td>\n",
       "      <td>...</td>\n",
       "      <td>...</td>\n",
       "      <td>...</td>\n",
       "      <td>...</td>\n",
       "    </tr>\n",
       "    <tr>\n",
       "      <th>3650</th>\n",
       "      <td>3650</td>\n",
       "      <td>lhrjfklaxlhr check ok apart snapped early chec...</td>\n",
       "      <td>United Kingdom</td>\n",
       "      <td>2012-08-29</td>\n",
       "      <td>4.0</td>\n",
       "      <td>False</td>\n",
       "    </tr>\n",
       "    <tr>\n",
       "      <th>3651</th>\n",
       "      <td>3651</td>\n",
       "      <td>lhr ham purser address club passenger name boa...</td>\n",
       "      <td>United Kingdom</td>\n",
       "      <td>2012-08-28</td>\n",
       "      <td>9.0</td>\n",
       "      <td>False</td>\n",
       "    </tr>\n",
       "    <tr>\n",
       "      <th>3652</th>\n",
       "      <td>3652</td>\n",
       "      <td>son worked british airway urged fly british ai...</td>\n",
       "      <td>United Kingdom</td>\n",
       "      <td>2011-10-12</td>\n",
       "      <td>5.0</td>\n",
       "      <td>False</td>\n",
       "    </tr>\n",
       "    <tr>\n",
       "      <th>3653</th>\n",
       "      <td>3653</td>\n",
       "      <td>london citynew york jfk via shannon a318 reall...</td>\n",
       "      <td>United States</td>\n",
       "      <td>2011-10-11</td>\n",
       "      <td>4.0</td>\n",
       "      <td>False</td>\n",
       "    </tr>\n",
       "    <tr>\n",
       "      <th>3654</th>\n",
       "      <td>3654</td>\n",
       "      <td>sinlhr ba12 b747436 first class old aircraft 1...</td>\n",
       "      <td>United Kingdom</td>\n",
       "      <td>2011-10-09</td>\n",
       "      <td>4.0</td>\n",
       "      <td>False</td>\n",
       "    </tr>\n",
       "  </tbody>\n",
       "</table>\n",
       "<p>3648 rows × 6 columns</p>\n",
       "</div>"
      ],
      "text/plain": [
       "      Unnamed: 0                                            reviews  \\\n",
       "0              0  fly british airway weekly want route ’ option ...   \n",
       "1              1  everything ok connecting flight london take ru...   \n",
       "2              2  initial flight cancelled 8 hour prior flight a...   \n",
       "3              3  never fly british airway flight july 15 2023 l...   \n",
       "4              4  check security clearance quick lhr t5 wife use...   \n",
       "...          ...                                                ...   \n",
       "3650        3650  lhrjfklaxlhr check ok apart snapped early chec...   \n",
       "3651        3651  lhr ham purser address club passenger name boa...   \n",
       "3652        3652  son worked british airway urged fly british ai...   \n",
       "3653        3653  london citynew york jfk via shannon a318 reall...   \n",
       "3654        3654  sinlhr ba12 b747436 first class old aircraft 1...   \n",
       "\n",
       "     reviewer_country review_date  review_rating  verified  \n",
       "0      United Kingdom  2023-09-22            1.0      True  \n",
       "1              France  2023-09-20            1.0     False  \n",
       "2             Germany  2023-09-20            1.0     False  \n",
       "3         Switzerland  2023-09-19            1.0     False  \n",
       "4      United Kingdom  2023-09-18            6.0      True  \n",
       "...               ...         ...            ...       ...  \n",
       "3650   United Kingdom  2012-08-29            4.0     False  \n",
       "3651   United Kingdom  2012-08-28            9.0     False  \n",
       "3652   United Kingdom  2011-10-12            5.0     False  \n",
       "3653    United States  2011-10-11            4.0     False  \n",
       "3654   United Kingdom  2011-10-09            4.0     False  \n",
       "\n",
       "[3648 rows x 6 columns]"
      ]
     },
     "execution_count": 18,
     "metadata": {},
     "output_type": "execute_result"
    }
   ],
   "source": [
    "df.dropna(axis=0,how=\"any\")"
   ]
  },
  {
   "cell_type": "code",
   "execution_count": 19,
   "id": "8e0e9612",
   "metadata": {},
   "outputs": [
    {
     "data": {
      "text/plain": [
       "pandas.core.series.Series"
      ]
     },
     "execution_count": 19,
     "metadata": {},
     "output_type": "execute_result"
    }
   ],
   "source": [
    "type(df[\"reviews\"])"
   ]
  },
  {
   "cell_type": "code",
   "execution_count": 20,
   "id": "357ab25b",
   "metadata": {},
   "outputs": [
    {
     "name": "stderr",
     "output_type": "stream",
     "text": [
      "[nltk_data] Downloading package wordnet to\n",
      "[nltk_data]     C:\\Users\\1809s\\AppData\\Roaming\\nltk_data...\n",
      "[nltk_data]   Package wordnet is already up-to-date!\n"
     ]
    },
    {
     "data": {
      "text/plain": [
       "True"
      ]
     },
     "execution_count": 20,
     "metadata": {},
     "output_type": "execute_result"
    }
   ],
   "source": [
    "nltk.download(\"wordnet\")"
   ]
  },
  {
   "cell_type": "code",
   "execution_count": 21,
   "id": "d8a01eda",
   "metadata": {},
   "outputs": [
    {
     "data": {
      "text/plain": [
       "0    fly british airway weekly want route ’ option ...\n",
       "1    everything ok connecting flight london take ru...\n",
       "2    initial flight cancelled 8 hour prior flight a...\n",
       "3    never fly british airway flight july 15 2023 l...\n",
       "4    check security clearance quick lhr t5 wife use...\n",
       "Name: reviews, dtype: object"
      ]
     },
     "execution_count": 21,
     "metadata": {},
     "output_type": "execute_result"
    }
   ],
   "source": [
    "df[\"reviews\"].head()"
   ]
  },
  {
   "cell_type": "code",
   "execution_count": 22,
   "id": "bd185aca",
   "metadata": {},
   "outputs": [],
   "source": [
    "df.to_csv(os.getcwd() + \"Cleaned.csv\")"
   ]
  },
  {
   "cell_type": "code",
   "execution_count": null,
   "id": "9d728220",
   "metadata": {},
   "outputs": [],
   "source": []
  }
 ],
 "metadata": {
  "kernelspec": {
   "display_name": "Python 3 (ipykernel)",
   "language": "python",
   "name": "python3"
  },
  "language_info": {
   "codemirror_mode": {
    "name": "ipython",
    "version": 3
   },
   "file_extension": ".py",
   "mimetype": "text/x-python",
   "name": "python",
   "nbconvert_exporter": "python",
   "pygments_lexer": "ipython3",
   "version": "3.11.4"
  }
 },
 "nbformat": 4,
 "nbformat_minor": 5
}
